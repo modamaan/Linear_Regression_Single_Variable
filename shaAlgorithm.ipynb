{
 "cells": [
  {
   "cell_type": "markdown",
   "metadata": {},
   "source": [
    "## SHA, ( Secure Hash Algorithms )- Base Of BlockChain\n",
    "\n",
    "1. SHA256 : This hash function belong to hash class SHA-2, the internal block size of it is 32 bits.\n",
    "2. SHA384 : This hash function belong to hash class SHA-2, the internal block size of it is 32 bits. This is one of the truncated version.\n",
    "3. SHA224 : This hash function belong to hash class SHA-2, the internal block size of it is 32 bits. This is one of the truncated version.\n",
    "4. SHA512 : This hash function belong to hash class SHA-2, the internal block size of it is 64 bits.\n",
    "5. SHA1 : The 160 bit hash function that resembles MD5 hash in working and was discontinued to be used seeing its security vulnerabilities."
   ]
  },
  {
   "cell_type": "markdown",
   "metadata": {},
   "source": []
  },
  {
   "cell_type": "markdown",
   "metadata": {},
   "source": [
    "# SHA256"
   ]
  },
  {
   "cell_type": "code",
   "execution_count": 1,
   "metadata": {},
   "outputs": [],
   "source": [
    "import hashlib"
   ]
  },
  {
   "cell_type": "code",
   "execution_count": 6,
   "metadata": {},
   "outputs": [
    {
     "name": "stdout",
     "output_type": "stream",
     "text": [
      "<sha256 _hashlib.HASH object @ 0x0000026013F263B0>\n"
     ]
    }
   ],
   "source": [
    "str1 = \"Mohamed amaan1\"\n",
    "\n",
    "### process of hashing\n",
    "### First step is to encode\n",
    "### Then apply hashing Algorithms\n",
    "hashedval = hashlib.sha256(str1.encode())\n",
    "print(hashedval)"
   ]
  },
  {
   "cell_type": "code",
   "execution_count": 7,
   "metadata": {},
   "outputs": [
    {
     "data": {
      "text/plain": [
       "'4bc43e3c25993c92b1dbe0e4a0d02bc092354fab0f80fd22855c2cc87f1b2291'"
      ]
     },
     "execution_count": 7,
     "metadata": {},
     "output_type": "execute_result"
    }
   ],
   "source": [
    "### Convert this value to exadecimal\n",
    "hashedval.hexdigest()"
   ]
  },
  {
   "cell_type": "code",
   "execution_count": 8,
   "metadata": {},
   "outputs": [
    {
     "data": {
      "text/plain": [
       "'e5667099524bb05d7edb7d6d78023f49912c230c6fa14380293cd1dd3d9c4bc1ce70550c0e46d8e8fd0cfeaea2241b54'"
      ]
     },
     "execution_count": 8,
     "metadata": {},
     "output_type": "execute_result"
    }
   ],
   "source": [
    "hashedval = hashlib.sha384(str1.encode())\n",
    "hashedval.hexdigest()"
   ]
  },
  {
   "cell_type": "code",
   "execution_count": 9,
   "metadata": {},
   "outputs": [
    {
     "data": {
      "text/plain": [
       "'0122883ba5af2558406c3c6c904847548415fd105c34d32569fbab1582f730e8ba917f026bd4eb280e2685653198f3f60bdced47c40b3d4120eaf45b37d19070'"
      ]
     },
     "execution_count": 9,
     "metadata": {},
     "output_type": "execute_result"
    }
   ],
   "source": [
    "hashedval = hashlib.sha512(str1.encode())\n",
    "hashedval.hexdigest()"
   ]
  },
  {
   "cell_type": "markdown",
   "metadata": {},
   "source": [
    "### Used for Blockchain , Bitcoin "
   ]
  },
  {
   "cell_type": "markdown",
   "metadata": {},
   "source": []
  }
 ],
 "metadata": {
  "kernelspec": {
   "display_name": "Python 3",
   "language": "python",
   "name": "python3"
  },
  "language_info": {
   "codemirror_mode": {
    "name": "ipython",
    "version": 3
   },
   "file_extension": ".py",
   "mimetype": "text/x-python",
   "name": "python",
   "nbconvert_exporter": "python",
   "pygments_lexer": "ipython3",
   "version": "3.11.4"
  }
 },
 "nbformat": 4,
 "nbformat_minor": 2
}
